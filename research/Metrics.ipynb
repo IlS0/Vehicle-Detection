{
 "cells": [
  {
   "cell_type": "markdown",
   "id": "8e8f3727",
   "metadata": {},
   "source": [
    "## Вычисление Recall, IoU по нашему датасету"
   ]
  },
  {
   "cell_type": "code",
   "execution_count": 2,
   "id": "34687295",
   "metadata": {
    "ExecuteTime": {
     "end_time": "2024-02-19T06:30:05.205364300Z",
     "start_time": "2024-02-19T06:30:05.162922900Z"
    }
   },
   "outputs": [],
   "source": [
    "import os\n",
    "import cv2\n",
    "import numpy as np\n",
    "from detectron2.data import MetadataCatalog\n",
    "from detectron2.utils.visualizer import Visualizer\n",
    "from detectron2.engine import DefaultPredictor\n",
    "from detectron2.config import get_cfg\n",
    "from detectron2 import model_zoo\n",
    "from collections import defaultdict"
   ]
  },
  {
   "cell_type": "code",
   "execution_count": 3,
   "id": "91ed02d0",
   "metadata": {
    "ExecuteTime": {
     "end_time": "2024-02-19T06:30:06.183925500Z",
     "start_time": "2024-02-19T06:30:05.206938300Z"
    }
   },
   "outputs": [],
   "source": [
    "# Настройка модели\n",
    "cfg = get_cfg()\n",
    "cfg.merge_from_file(model_zoo.get_config_file(\"COCO-Detection/faster_rcnn_R_50_FPN_3x.yaml\"))\n",
    "cfg.MODEL.ROI_HEADS.SCORE_THRESH_TEST = 0.5\n",
    "cfg.MODEL.WEIGHTS = model_zoo.get_checkpoint_url(\"COCO-Detection/faster_rcnn_R_50_FPN_3x.yaml\")\n",
    "predictor = DefaultPredictor(cfg)"
   ]
  },
  {
   "cell_type": "code",
   "execution_count": 4,
   "id": "5e73c0e6",
   "metadata": {
    "ExecuteTime": {
     "end_time": "2024-02-19T06:30:06.185437800Z",
     "start_time": "2024-02-19T06:30:06.180534Z"
    }
   },
   "outputs": [
    {
     "name": "stdout",
     "output_type": "stream",
     "text": [
      "['person', 'bicycle', 'car', 'motorcycle', 'airplane', 'bus', 'train', 'truck', 'boat', 'traffic light', 'fire hydrant', 'stop sign', 'parking meter', 'bench', 'bird', 'cat', 'dog', 'horse', 'sheep', 'cow', 'elephant', 'bear', 'zebra', 'giraffe', 'backpack', 'umbrella', 'handbag', 'tie', 'suitcase', 'frisbee', 'skis', 'snowboard', 'sports ball', 'kite', 'baseball bat', 'baseball glove', 'skateboard', 'surfboard', 'tennis racket', 'bottle', 'wine glass', 'cup', 'fork', 'knife', 'spoon', 'bowl', 'banana', 'apple', 'sandwich', 'orange', 'broccoli', 'carrot', 'hot dog', 'pizza', 'donut', 'cake', 'chair', 'couch', 'potted plant', 'bed', 'dining table', 'toilet', 'tv', 'laptop', 'mouse', 'remote', 'keyboard', 'cell phone', 'microwave', 'oven', 'toaster', 'sink', 'refrigerator', 'book', 'clock', 'vase', 'scissors', 'teddy bear', 'hair drier', 'toothbrush']\n"
     ]
    }
   ],
   "source": [
    "# Список классов в датасете COCO\n",
    "coco_classes = MetadataCatalog.get(cfg.DATASETS.TRAIN[0]).thing_classes\n",
    "print(coco_classes)"
   ]
  },
  {
   "cell_type": "code",
   "execution_count": 5,
   "id": "1ed225e1",
   "metadata": {
    "ExecuteTime": {
     "end_time": "2024-02-19T06:30:06.185437800Z",
     "start_time": "2024-02-19T06:30:06.180534Z"
    }
   },
   "outputs": [
    {
     "name": "stdout",
     "output_type": "stream",
     "text": [
      "Warning: Class 'motorbike' not found in COCO classes.\n"
     ]
    }
   ],
   "source": [
    "# Список классов\n",
    "classes = ['bicycle', 'bus', 'car', 'motorbike', 'person']\n",
    "\n",
    "# Перевод id меток датасета в id COCO для последующего сравнения по id \n",
    "class_indices = []\n",
    "for classs in classes:\n",
    "    try:\n",
    "        class_indices.append(coco_classes.index(classs))\n",
    "    except ValueError:\n",
    "        print(f\"Warning: Class '{classs}' not found in COCO classes.\")\n",
    "        class_indices.append(None)"
   ]
  },
  {
   "cell_type": "code",
   "execution_count": 6,
   "id": "eeee3ff0",
   "metadata": {
    "ExecuteTime": {
     "end_time": "2024-02-19T06:30:06.208967800Z",
     "start_time": "2024-02-19T06:30:06.180534Z"
    }
   },
   "outputs": [],
   "source": [
    "# Вычисление IoU по 2-м bb\n",
    "def compute_iou(box1, box2):\n",
    "    _, x1, y1, x2, y2 = box1\n",
    "    _, x1_b, y1_b, x2_b, y2_b = box2\n",
    "\n",
    "    # Вычисление пересечения\n",
    "    x1_max = max(x1, x1_b)\n",
    "    y1_max = max(y1, y1_b)\n",
    "    x2_min = min(x2, x2_b)\n",
    "    y2_min = min(y2, y2_b)\n",
    "\n",
    "    intersection = max(0, x2_min - x1_max) * max(0, y2_min - y1_max)\n",
    "\n",
    "    # Вычисление объединения\n",
    "    area_box1 = (x2 - x1) * (y2 - y1)\n",
    "    area_box2 = (x2_b - x1_b) * (y2_b - y1_b)\n",
    "    union = area_box1 + area_box2 - intersection\n",
    "\n",
    "    # Вычисление IoU\n",
    "    iou = intersection / union if union != 0 else 0\n",
    "\n",
    "    return iou\n",
    "\n",
    "# Функция для чтения меток из txt файла\n",
    "def read_labels(txt_file):\n",
    "    with open(txt_file, \"r\") as f:\n",
    "        lines = f.readlines()\n",
    "    boxes = []\n",
    "    for line in lines:\n",
    "        class_id, x_center, y_center, width, height = map(float, line.strip().split())\n",
    "        # Преобразование координат из YOLO формата в формат xmin, ymin, xmax, ymax\n",
    "        xmin = (x_center - width / 2) * img.shape[1]\n",
    "        xmax = (x_center + width / 2) * img.shape[1]\n",
    "        ymin = (y_center - height / 2) * img.shape[0]\n",
    "        ymax = (y_center + height / 2) * img.shape[0]\n",
    "        boxes.append([class_id, xmin, ymin, xmax, ymax])\n",
    "    return boxes\n",
    "\n",
    "# Получить ответ модели в таком же формате, что и в датасете\n",
    "def get_predicts(outputs):\n",
    "    # Извлечение предсказанных ограничивающих рамок и классов из outputs\n",
    "    pred_boxes = outputs[\"instances\"].pred_boxes.tensor.tolist()\n",
    "    pred_classes = outputs[\"instances\"].pred_classes.tolist()\n",
    "    \n",
    "    # Компонуем все вместе, как в метках нашего даатсета\n",
    "    predicts = []\n",
    "    for pred_class, pred_box in zip(pred_classes, pred_boxes):\n",
    "        predicts.append([pred_class] + pred_box)\n",
    "    \n",
    "    return predicts\n"
   ]
  },
  {
   "cell_type": "code",
   "execution_count": 7,
   "id": "f3cd4dd7",
   "metadata": {
    "ExecuteTime": {
     "end_time": "2024-02-19T06:30:06.210101300Z",
     "start_time": "2024-02-19T06:30:06.189530900Z"
    }
   },
   "outputs": [],
   "source": [
    "# Получение списка изображений\n",
    "image_dir = \"../test/images\"\n",
    "image_files = [f for f in os.listdir(image_dir) if f.endswith('.jpg')]"
   ]
  },
  {
   "cell_type": "code",
   "execution_count": 8,
   "id": "1ddf2cf5",
   "metadata": {
    "ExecuteTime": {
     "end_time": "2024-02-19T06:30:18.901105500Z",
     "start_time": "2024-02-19T06:30:06.192294800Z"
    }
   },
   "outputs": [
    {
     "name": "stderr",
     "output_type": "stream",
     "text": [
      "/usr/local/lib/python3.10/dist-packages/torch/functional.py:507: UserWarning: torch.meshgrid: in an upcoming release, it will be required to pass the indexing argument. (Triggered internally at ../aten/src/ATen/native/TensorShape.cpp:3549.)\n",
      "  return _VF.meshgrid(tensors, **kwargs)  # type: ignore[attr-defined]\n"
     ]
    }
   ],
   "source": [
    "# Инициализация словарей для подсчета TPm FP и FN для каждого класса\n",
    "TP = defaultdict(int)\n",
    "FP = defaultdict(int)\n",
    "FN = defaultdict(int)\n",
    "\n",
    "# Список для хранения Precision и Recall для каждого класса\n",
    "precisions = defaultdict(list)\n",
    "recalls = defaultdict(list)\n",
    "\n",
    "# Список для хранения IoU для каждого bb\n",
    "ious = []\n",
    "\n",
    "# Прогон каждого изображения через модель\n",
    "for image_file in image_files:\n",
    "    image_path = os.path.join(image_dir, image_file)\n",
    "    img = cv2.imread(image_path)\n",
    "    outputs = predictor(img)\n",
    "    \n",
    "    predicts = get_predicts(outputs)\n",
    "    \n",
    "    # Чтение истинных меток из соответствующего txt файла\n",
    "    txt_file = os.path.join(\"../test/labels\", image_file.replace(\".jpg\", \".txt\"))\n",
    "    true_boxes = read_labels(txt_file)\n",
    "\n",
    "    # Вычисление метрик\n",
    "    for true_box in true_boxes:\n",
    "        max_iou = 0\n",
    "        max_class_id2 = -1\n",
    "        for predict in predicts:\n",
    "            iou = compute_iou(true_box, predict)\n",
    "            class_id1, class_id2 = class_indices[int(true_box[0])], predict[0]\n",
    "            # Ищем такую пару bb, чтобы IoU было максимальным\n",
    "            if iou > max_iou:\n",
    "                max_iou = iou\n",
    "                max_class_id2 = class_id2\n",
    "        if class_id1 == max_class_id2:  # Если классы совпадают, считаем это истинно положительным предсказанием\n",
    "            TP[class_id1] += 1\n",
    "        else:  # В противном случае, считаем это ложно отрицательным предсказанием и ложно положительным предсказанием\n",
    "            FN[class_id1] += 1\n",
    "            FP[max_class_id2] += 1\n",
    "\n",
    "        ious.append(max_iou)\n",
    "        \n",
    "# Вычисление precision и recall для каждого класса\n",
    "precision = {classes[i]: TP[i] / (TP[i] + FP[i]) for i in range(len(classes)) if (TP[i] + FP[i]) != 0}\n",
    "recall = {classes[i]: TP[i] / (TP[i] + FN[i]) for i in range(len(classes)) if (TP[i] + FN[i]) != 0}"
   ]
  },
  {
   "cell_type": "code",
   "execution_count": 9,
   "id": "d92bf845",
   "metadata": {
    "ExecuteTime": {
     "end_time": "2024-02-19T06:30:18.913141800Z",
     "start_time": "2024-02-19T06:30:18.907621400Z"
    }
   },
   "outputs": [],
   "source": [
    "# Вычисление precision и recall для каждого класса\n",
    "precision = {classes[i]: TP[i] / (TP[i] + FP[i]) for i in range(len(classes)) if (TP[i] + FP[i]) != 0}\n",
    "recall = {classes[i]: TP[i] / (TP[i] + FN[i]) for i in range(len(classes)) if (TP[i] + FN[i]) != 0}"
   ]
  },
  {
   "cell_type": "code",
   "execution_count": 10,
   "id": "05258ee3",
   "metadata": {
    "ExecuteTime": {
     "end_time": "2024-02-19T06:30:18.915140800Z",
     "start_time": "2024-02-19T06:30:18.907621400Z"
    }
   },
   "outputs": [
    {
     "name": "stdout",
     "output_type": "stream",
     "text": [
      "Precision: {'bicycle': 0.44598337950138506, 'bus': 0.5714285714285714, 'car': 0.9477993858751279, 'motorbike': 0.0}\n",
      "Recall: {'bicycle': 0.3561946902654867, 'bus': 0.36363636363636365, 'car': 0.48304642670839854}\n",
      "Mean IoU: 0.3555233791658838\n"
     ]
    }
   ],
   "source": [
    "print(\"Precision:\", precision)\n",
    "print(\"Recall:\", recall)\n",
    "print(\"Mean IoU:\", np.mean(ious))"
   ]
  },
  {
   "cell_type": "code",
   "execution_count": 10,
   "id": "5a0eef66",
   "metadata": {
    "ExecuteTime": {
     "end_time": "2024-02-19T06:30:18.915140800Z",
     "start_time": "2024-02-19T06:30:18.914144200Z"
    }
   },
   "outputs": [],
   "source": []
  }
 ],
 "metadata": {
  "kernelspec": {
   "display_name": "Python 3 (ipykernel)",
   "language": "python",
   "name": "python3"
  },
  "language_info": {
   "codemirror_mode": {
    "name": "ipython",
    "version": 3
   },
   "file_extension": ".py",
   "mimetype": "text/x-python",
   "name": "python",
   "nbconvert_exporter": "python",
   "pygments_lexer": "ipython3",
   "version": "3.10.12"
  }
 },
 "nbformat": 4,
 "nbformat_minor": 5
}
