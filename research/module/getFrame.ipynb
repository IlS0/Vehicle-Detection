{
 "cells": [
  {
   "cell_type": "code",
   "execution_count": 1,
   "metadata": {},
   "outputs": [],
   "source": [
    "import cv2\n",
    "import os"
   ]
  },
  {
   "cell_type": "code",
   "execution_count": 19,
   "metadata": {},
   "outputs": [],
   "source": [
    "video_path = \"./Элекросамокат_2 (online-video-cutter.com).mp4\"\n",
    "output_folder = \"./electric_scooter/\"\n",
    "width = 1280\n",
    "height = 720\n",
    "\n",
    "name=\"electric_scooter_\"\n",
    "start = 47"
   ]
  },
  {
   "cell_type": "code",
   "execution_count": 20,
   "metadata": {},
   "outputs": [],
   "source": [
    "def resize_image(image):\n",
    "    return cv2.resize(image, (width, height))\n",
    "\n",
    "def extract_frames(video_path, output_folder):\n",
    "    if not os.path.exists(output_folder):\n",
    "        os.makedirs(output_folder)\n",
    "\n",
    "    cap = cv2.VideoCapture(video_path)\n",
    "    frame_count = 0\n",
    "    start_iteration = start\n",
    "\n",
    "    while True:\n",
    "        ret, frame = cap.read()\n",
    "        if not ret:\n",
    "            break\n",
    "\n",
    "        # размер кадра\n",
    "        resized_frame = resize_image(frame)\n",
    "        # print(f\"{name}{str(start_iteration)}.jpg\")\n",
    "\n",
    "        frame_path = os.path.join(output_folder, f\"{name}{str(start_iteration)}.jpg\")\n",
    "        cv2.imwrite(frame_path, resized_frame)\n",
    "\n",
    "        frame_count += 1\n",
    "        start_iteration += 1\n",
    "\n",
    "    cap.release()"
   ]
  },
  {
   "cell_type": "code",
   "execution_count": 21,
   "metadata": {},
   "outputs": [],
   "source": [
    "extract_frames(video_path, output_folder)"
   ]
  }
 ],
 "metadata": {
  "kernelspec": {
   "display_name": "Python 3",
   "language": "python",
   "name": "python3"
  },
  "language_info": {
   "codemirror_mode": {
    "name": "ipython",
    "version": 3
   },
   "file_extension": ".py",
   "mimetype": "text/x-python",
   "name": "python",
   "nbconvert_exporter": "python",
   "pygments_lexer": "ipython3",
   "version": "3.10.11"
  }
 },
 "nbformat": 4,
 "nbformat_minor": 2
}
