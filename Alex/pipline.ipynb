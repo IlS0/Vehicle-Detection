{
 "cells": [
  {
   "cell_type": "markdown",
   "metadata": {},
   "source": [
    "# Емельянов Алексей Алексеевич\n",
    "\n",
    "Определение типа транспорта, \n",
    "\n",
    "датасет - https://www.kaggle.com/datasets/yusufberksardoan/traffic-detection-project?resource=download\n",
    "модель - "
   ]
  },
  {
   "cell_type": "markdown",
   "metadata": {},
   "source": [
    "# Импорты"
   ]
  },
  {
   "cell_type": "code",
   "execution_count": 14,
   "metadata": {},
   "outputs": [],
   "source": [
    "# массивы, рандом\n",
    "import pandas as pd\n",
    "import numpy as np\n",
    "\n",
    "# файлы\n",
    "from os.path import join as pjoin\n",
    "import os\n",
    "import json\n",
    "\n",
    "# модельки\n",
    "import segmentation_models_pytorch as smp\n",
    "\n",
    "# torch\n",
    "import torch\n",
    "import torch.nn as nn\n",
    "from torch.utils.data import DataLoader, Dataset\n",
    "\n",
    "# аугментация\n",
    "import albumentations as album\n",
    "\n",
    "# отображение\n",
    "from tqdm.notebook import tqdm\n",
    "import cv2\n",
    "import matplotlib.pyplot as plt\n",
    "import torchvision\n",
    "import torchinfo\n",
    "from torch.utils.tensorboard import SummaryWriter\n",
    "from module.board import uniqufy_path, create_image_plot\n",
    "\n",
    "# метрики\n",
    "from torchmetrics.classification import BinaryJaccardIndex\n",
    "\n",
    "# оптимизаторы, изменение lr\n",
    "from torch.optim.lr_scheduler import ReduceLROnPlateau, CosineAnnealingWarmRestarts\n",
    "\n",
    "# лос\n",
    "from segmentation_models_pytorch.losses import DiceLoss"
   ]
  },
  {
   "cell_type": "markdown",
   "metadata": {},
   "source": [
    "# Константы"
   ]
  },
  {
   "cell_type": "code",
   "execution_count": 15,
   "metadata": {},
   "outputs": [],
   "source": [
    "DATA_DIR = './../data/data/'\n",
    "SIZE_IMAGE = 256\n",
    "BATCH_SIZE = 32\n",
    "NUM_WORKERS = 0\n",
    "DEVICE = torch.device(\"cuda:0\" if torch.cuda.is_available() else \"cpu\")"
   ]
  },
  {
   "cell_type": "code",
   "execution_count": null,
   "metadata": {},
   "outputs": [],
   "source": [
    "x_train_dir = os.path.join(DATA_DIR, 'train/images')\n",
    "y_train_dir = os.path.join(DATA_DIR, 'train/labels')\n",
    "\n",
    "x_valid_dir = os.path.join(DATA_DIR, 'valid/images')\n",
    "y_valid_dir = os.path.join(DATA_DIR, 'valid/labels')\n",
    "\n",
    "x_test_dir = os.path.join(DATA_DIR, 'test/images')\n",
    "y_test_dir = os.path.join(DATA_DIR, 'test/labels')\n"
   ]
  }
 ],
 "metadata": {
  "kernelspec": {
   "display_name": "Python 3",
   "language": "python",
   "name": "python3"
  },
  "language_info": {
   "codemirror_mode": {
    "name": "ipython",
    "version": 3
   },
   "file_extension": ".py",
   "mimetype": "text/x-python",
   "name": "python",
   "nbconvert_exporter": "python",
   "pygments_lexer": "ipython3",
   "version": "3.10.11"
  }
 },
 "nbformat": 4,
 "nbformat_minor": 2
}
