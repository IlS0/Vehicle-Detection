{
 "cells": [
  {
   "cell_type": "code",
   "execution_count": 1,
   "metadata": {},
   "outputs": [],
   "source": [
    "import os"
   ]
  },
  {
   "cell_type": "code",
   "execution_count": 7,
   "metadata": {},
   "outputs": [],
   "source": [
    "folder_path = \"./electric_scooter\"\n",
    "name=\"electricScooter_\"\n",
    "start = 0"
   ]
  },
  {
   "cell_type": "code",
   "execution_count": 8,
   "metadata": {},
   "outputs": [],
   "source": [
    "def rename_files(folder_path, prefix=name, start_index=start):\n",
    "    files = os.listdir(folder_path)\n",
    "    index = start_index\n",
    "    \n",
    "    for file in files:\n",
    "        new_name = f\"{prefix}{index}.jpg\"\n",
    "        \n",
    "        old_path = os.path.join(folder_path, file)\n",
    "        new_path = os.path.join(folder_path, new_name)\n",
    "\n",
    "        # Проверяем, существует ли файл с новым именем\n",
    "        if os.path.exists(new_path):\n",
    "            # print(f\"Файл с именем {new_name} уже существует.\")\n",
    "            index += 1\n",
    "            continue\n",
    "        \n",
    "        os.rename(old_path, new_path)\n",
    "        index += 1"
   ]
  },
  {
   "cell_type": "code",
   "execution_count": 9,
   "metadata": {},
   "outputs": [],
   "source": [
    "rename_files(folder_path)"
   ]
  }
 ],
 "metadata": {
  "kernelspec": {
   "display_name": "Python 3",
   "language": "python",
   "name": "python3"
  },
  "language_info": {
   "codemirror_mode": {
    "name": "ipython",
    "version": 3
   },
   "file_extension": ".py",
   "mimetype": "text/x-python",
   "name": "python",
   "nbconvert_exporter": "python",
   "pygments_lexer": "ipython3",
   "version": "3.10.11"
  }
 },
 "nbformat": 4,
 "nbformat_minor": 2
}
